{
 "cells": [
  {
   "cell_type": "markdown",
   "metadata": {},
   "source": [
    "# Imports and Setup"
   ]
  },
  {
   "cell_type": "code",
   "execution_count": 24,
   "metadata": {},
   "outputs": [
    {
     "name": "stdout",
     "output_type": "stream",
     "text": [
      "env: GOOGLE_APPLICATION_CREDENTIALS=/media/david/warehaus1/youtube_series/proven-script.json\n"
     ]
    }
   ],
   "source": [
    "import os \n",
    "import sys\n",
    "import jsonlines\n",
    "from google.cloud import aiplatform, storage\n",
    "from google.protobuf import json_format\n",
    "from datetime import datetime\n",
    "import tensorflow as tf \n",
    "from tfx import v1 as tfx\n",
    "\n",
    "%env GOOGLE_APPLICATION_CREDENTIALS /media/david/warehaus1/youtube_series/proven-script.json\n",
    "\n",
    "GOOGLE_CLOUD_REGION = 'us-central1'\n",
    "GOOGLE_CLOUD_PROJECT  = 'proven-script-347020'\n",
    "GCS_BUCKET_NAME = 'salary-pipeline-347020'\n",
    "\n",
    "PIPELINE_NAME = 'salary-pipeline'\n",
    "\n",
    "TIMESTAMP = datetime.now().strftime(\"%Y%m%d%H%M%S\")\n",
    "# Path to various pipeline artifact.\n",
    "PIPELINE_ROOT = f'gs://{GCS_BUCKET_NAME}/pipeline_root/{PIPELINE_NAME}'\n",
    "\n",
    "# Paths for users' Python module.\n",
    "MODULE_ROOT = f'gs://{GCS_BUCKET_NAME}/pipeline_module/{PIPELINE_NAME}'\n",
    "\n",
    "# Paths for users' data.\n",
    "DATA_ROOT = f'gs://{GCS_BUCKET_NAME}/data/{PIPELINE_NAME}'\n",
    "\n",
    "# Name of Vertex AI Endpoint.\n",
    "ENDPOINT_NAME = PIPELINE_NAME +'-'+ TIMESTAMP\n"
   ]
  },
  {
   "cell_type": "code",
   "execution_count": 5,
   "metadata": {},
   "outputs": [
    {
     "data": {
      "text/plain": [
       "'\\n!pip install tfx==1.4.0\\n!pip install \"kfp<2\"\\n'"
      ]
     },
     "execution_count": 5,
     "metadata": {},
     "output_type": "execute_result"
    }
   ],
   "source": [
    "'''\n",
    "!pip install tfx==1.4.0\n",
    "!pip install \"kfp<2\"\n",
    "'''\n"
   ]
  },
  {
   "cell_type": "code",
   "execution_count": 6,
   "metadata": {},
   "outputs": [
    {
     "name": "stdout",
     "output_type": "stream",
     "text": [
      "Creating gs://salary-pipeline-347020/...\n",
      "Copying file://data.csv [Content-Type=text/csv]...\n",
      "\\ [1 files][  3.2 MiB/  3.2 MiB]                                                \n",
      "Operation completed over 1 objects/3.2 MiB.                                      \n"
     ]
    }
   ],
   "source": [
    "!gsutil mb -l {GOOGLE_CLOUD_REGION} gs://{GCS_BUCKET_NAME}\n",
    "!gsutil cp data.csv {DATA_ROOT}/"
   ]
  },
  {
   "cell_type": "code",
   "execution_count": 20,
   "metadata": {},
   "outputs": [
    {
     "data": {
      "text/html": [
       "<div>\n",
       "<style scoped>\n",
       "    .dataframe tbody tr th:only-of-type {\n",
       "        vertical-align: middle;\n",
       "    }\n",
       "\n",
       "    .dataframe tbody tr th {\n",
       "        vertical-align: top;\n",
       "    }\n",
       "\n",
       "    .dataframe thead th {\n",
       "        text-align: right;\n",
       "    }\n",
       "</style>\n",
       "<table border=\"1\" class=\"dataframe\">\n",
       "  <thead>\n",
       "    <tr style=\"text-align: right;\">\n",
       "      <th></th>\n",
       "      <th>age</th>\n",
       "      <th>workclass</th>\n",
       "      <th>fnlwgt</th>\n",
       "      <th>education</th>\n",
       "      <th>education-num</th>\n",
       "      <th>marital-status</th>\n",
       "      <th>occupation</th>\n",
       "      <th>relationship</th>\n",
       "      <th>race</th>\n",
       "      <th>sex</th>\n",
       "      <th>capital-gain</th>\n",
       "      <th>capital-loss</th>\n",
       "      <th>hours-per-week</th>\n",
       "      <th>native-country</th>\n",
       "      <th>label</th>\n",
       "    </tr>\n",
       "  </thead>\n",
       "  <tbody>\n",
       "    <tr>\n",
       "      <th>0</th>\n",
       "      <td>39</td>\n",
       "      <td>State-gov</td>\n",
       "      <td>77516</td>\n",
       "      <td>Bachelors</td>\n",
       "      <td>13</td>\n",
       "      <td>Never-married</td>\n",
       "      <td>Adm-clerical</td>\n",
       "      <td>Not-in-family</td>\n",
       "      <td>White</td>\n",
       "      <td>Male</td>\n",
       "      <td>2174</td>\n",
       "      <td>0</td>\n",
       "      <td>40</td>\n",
       "      <td>United-States</td>\n",
       "      <td>0</td>\n",
       "    </tr>\n",
       "    <tr>\n",
       "      <th>1</th>\n",
       "      <td>50</td>\n",
       "      <td>Self-emp-not-inc</td>\n",
       "      <td>83311</td>\n",
       "      <td>Bachelors</td>\n",
       "      <td>13</td>\n",
       "      <td>Married-civ-spouse</td>\n",
       "      <td>Exec-managerial</td>\n",
       "      <td>Husband</td>\n",
       "      <td>White</td>\n",
       "      <td>Male</td>\n",
       "      <td>0</td>\n",
       "      <td>0</td>\n",
       "      <td>13</td>\n",
       "      <td>United-States</td>\n",
       "      <td>0</td>\n",
       "    </tr>\n",
       "    <tr>\n",
       "      <th>2</th>\n",
       "      <td>38</td>\n",
       "      <td>Private</td>\n",
       "      <td>215646</td>\n",
       "      <td>HS-grad</td>\n",
       "      <td>9</td>\n",
       "      <td>Divorced</td>\n",
       "      <td>Handlers-cleaners</td>\n",
       "      <td>Not-in-family</td>\n",
       "      <td>White</td>\n",
       "      <td>Male</td>\n",
       "      <td>0</td>\n",
       "      <td>0</td>\n",
       "      <td>40</td>\n",
       "      <td>United-States</td>\n",
       "      <td>0</td>\n",
       "    </tr>\n",
       "    <tr>\n",
       "      <th>3</th>\n",
       "      <td>53</td>\n",
       "      <td>Private</td>\n",
       "      <td>234721</td>\n",
       "      <td>11th</td>\n",
       "      <td>7</td>\n",
       "      <td>Married-civ-spouse</td>\n",
       "      <td>Handlers-cleaners</td>\n",
       "      <td>Husband</td>\n",
       "      <td>Black</td>\n",
       "      <td>Male</td>\n",
       "      <td>0</td>\n",
       "      <td>0</td>\n",
       "      <td>40</td>\n",
       "      <td>United-States</td>\n",
       "      <td>0</td>\n",
       "    </tr>\n",
       "    <tr>\n",
       "      <th>4</th>\n",
       "      <td>28</td>\n",
       "      <td>Private</td>\n",
       "      <td>338409</td>\n",
       "      <td>Bachelors</td>\n",
       "      <td>13</td>\n",
       "      <td>Married-civ-spouse</td>\n",
       "      <td>Prof-specialty</td>\n",
       "      <td>Wife</td>\n",
       "      <td>Black</td>\n",
       "      <td>Female</td>\n",
       "      <td>0</td>\n",
       "      <td>0</td>\n",
       "      <td>40</td>\n",
       "      <td>Cuba</td>\n",
       "      <td>0</td>\n",
       "    </tr>\n",
       "  </tbody>\n",
       "</table>\n",
       "</div>"
      ],
      "text/plain": [
       "   age         workclass  fnlwgt  education  education-num  \\\n",
       "0   39         State-gov   77516  Bachelors             13   \n",
       "1   50  Self-emp-not-inc   83311  Bachelors             13   \n",
       "2   38           Private  215646    HS-grad              9   \n",
       "3   53           Private  234721       11th              7   \n",
       "4   28           Private  338409  Bachelors             13   \n",
       "\n",
       "       marital-status         occupation   relationship   race     sex  \\\n",
       "0       Never-married       Adm-clerical  Not-in-family  White    Male   \n",
       "1  Married-civ-spouse    Exec-managerial        Husband  White    Male   \n",
       "2            Divorced  Handlers-cleaners  Not-in-family  White    Male   \n",
       "3  Married-civ-spouse  Handlers-cleaners        Husband  Black    Male   \n",
       "4  Married-civ-spouse     Prof-specialty           Wife  Black  Female   \n",
       "\n",
       "   capital-gain  capital-loss  hours-per-week native-country  label  \n",
       "0          2174             0              40  United-States      0  \n",
       "1             0             0              13  United-States      0  \n",
       "2             0             0              40  United-States      0  \n",
       "3             0             0              40  United-States      0  \n",
       "4             0             0              40           Cuba      0  "
      ]
     },
     "execution_count": 20,
     "metadata": {},
     "output_type": "execute_result"
    }
   ],
   "source": [
    "import pandas as pd  \n",
    "df = pd.read_csv('data.csv')\n",
    "df.head()"
   ]
  },
  {
   "cell_type": "markdown",
   "metadata": {},
   "source": [
    "# Write module code"
   ]
  },
  {
   "cell_type": "code",
   "execution_count": 28,
   "metadata": {},
   "outputs": [
    {
     "name": "stdout",
     "output_type": "stream",
     "text": [
      "Overwriting transform.py\n"
     ]
    }
   ],
   "source": [
    "%%writefile transform.py\n",
    "\n",
    "import tensorflow as tf \n",
    "import tensorflow_transform as tft \n",
    "\n",
    "NUMERIC_FEATURE_KEYS = [\n",
    "    'age', 'capital-gain','capital-loss',\n",
    "    'education-num', 'fnlwgt', 'hours-per-week'\n",
    "]\n",
    "\n",
    "VOCAB_FEATURE_DICT ={\n",
    "    'education':16, 'marital-status':7, 'native-country':41,\n",
    "    'occupation':15, 'race':5, 'relationship':6, 'sex':2,\n",
    "    'workclass':9\n",
    "}\n",
    "\n",
    "NUM_OOV_BUCKETS = 2\n",
    "\n",
    "LABEL_KEY = 'label'\n",
    "\n",
    "def transformed_name(key):\n",
    "    key = key.replace('-', '_')\n",
    "    return key + '_xf'\n",
    "\n",
    "def preprocessing_fn(inputs):\n",
    "    \n",
    "    outputs = {}\n",
    "    \n",
    "    for key in NUMERIC_FEATURE_KEYS:\n",
    "        scaled = tft.scale_to_0_1(inputs[key])\n",
    "        outputs[transformed_name(key)] = tf.reshape(scaled, [-1])\n",
    "        \n",
    "    for key, vocab_size in VOCAB_FEATURE_DICT.items():\n",
    "        indices = tft.compute_and_apply_vocabulary(inputs[key], num_oov_buckets = NUM_OOV_BUCKETS)\n",
    "        one_hot = tf.one_hot(indices, vocab_size + NUM_OOV_BUCKETS)\n",
    "        outputs[transformed_name(key)] = tf.reshape(one_hot, [-1, vocab_size + NUM_OOV_BUCKETS])\n",
    "        \n",
    "    outputs[transformed_name(LABEL_KEY)] = tf.cast(inputs[LABEL_KEY], tf.float32)\n",
    "    return outputs"
   ]
  },
  {
   "cell_type": "markdown",
   "metadata": {},
   "source": [
    "# Create Pipeline"
   ]
  },
  {
   "cell_type": "code",
   "execution_count": 29,
   "metadata": {},
   "outputs": [],
   "source": [
    "def _create_pipeline(pipeline_name:str, pipeline_root:str, data_root:str,\n",
    "                    module_file:str, endpoint_name:str, project_id:str,\n",
    "                    region:str, use_gpu:bool) -> tfx.dsl.Pipeline:\n",
    "    # ingest data\n",
    "    example_gen = tfx.components.CsvExampleGen(input_base=data_root)\n",
    "    \n",
    "    # generate statistics\n",
    "    statistics_gen = tfx.components.StatisticsGen(examples=example_gen.outputs['examples'])\n",
    "    \n",
    "    # generate schema\n",
    "    schema_gen= tfx.components.SchemaGen(statistics=statistics_gen.outputs['statistics'])\n",
    "    \n",
    "    # Identify anomalies\n",
    "    validator = tfx.components.ExampleValidator(statistics=statistics_gen.outputs['statistics'],\n",
    "                                               schema=schema_gen.outputs['schema'])\n",
    "    \n",
    "    # transform component\n",
    "    transform = tfx.components.Transform(\n",
    "        examples=example_gen.outputs['examples'],\n",
    "        schema=schema_gen.outputs['schema'],\n",
    "        module_file='gs://salary-pipeline-347020/models/transform.py'\n",
    "    )\n",
    "    \n",
    "    #components\n",
    "    components = [\n",
    "        example_gen,\n",
    "        statistics_gen,\n",
    "        schema_gen,\n",
    "        validator,\n",
    "        transform\n",
    "        \n",
    "    ]\n",
    "    \n",
    "    return tfx.dsl.Pipeline(\n",
    "    pipeline_name=pipeline_name,\n",
    "    pipeline_root=pipeline_root,\n",
    "    components=components\n",
    "    )"
   ]
  },
  {
   "cell_type": "markdown",
   "metadata": {},
   "source": [
    "# Run Pipeline"
   ]
  },
  {
   "cell_type": "code",
   "execution_count": 30,
   "metadata": {},
   "outputs": [
    {
     "name": "stderr",
     "output_type": "stream",
     "text": [
      "INFO:absl:Excluding no splits because exclude_splits is not set.\n",
      "INFO:absl:Excluding no splits because exclude_splits is not set.\n",
      "INFO:absl:Excluding no splits because exclude_splits is not set.\n"
     ]
    }
   ],
   "source": [
    "PIPELINE_DEFINITION_FILE = PIPELINE_NAME + '_pipeline.json'\n",
    "\n",
    "runner = tfx.orchestration.experimental.KubeflowV2DagRunner(\n",
    "    config=tfx.orchestration.experimental.KubeflowV2DagRunnerConfig(),\n",
    "    output_filename=PIPELINE_DEFINITION_FILE\n",
    "    )\n",
    "_ = runner.run(\n",
    "        _create_pipeline(\n",
    "            pipeline_name=PIPELINE_NAME,\n",
    "            pipeline_root=PIPELINE_ROOT,\n",
    "            data_root=DATA_ROOT,\n",
    "            module_file='',\n",
    "            endpoint_name='',\n",
    "            project_id=GOOGLE_CLOUD_PROJECT,\n",
    "            region=GOOGLE_CLOUD_REGION,\n",
    "            use_gpu=False\n",
    "        )\n",
    ")"
   ]
  },
  {
   "cell_type": "code",
   "execution_count": null,
   "metadata": {},
   "outputs": [],
   "source": []
  },
  {
   "cell_type": "markdown",
   "metadata": {},
   "source": [
    "# Submit job to vertex ai platform"
   ]
  },
  {
   "cell_type": "code",
   "execution_count": 31,
   "metadata": {},
   "outputs": [
    {
     "name": "stdout",
     "output_type": "stream",
     "text": [
      "Creating PipelineJob\n"
     ]
    },
    {
     "name": "stderr",
     "output_type": "stream",
     "text": [
      "INFO:google.cloud.aiplatform.pipeline_jobs:Creating PipelineJob\n"
     ]
    },
    {
     "name": "stdout",
     "output_type": "stream",
     "text": [
      "PipelineJob created. Resource name: projects/167901156608/locations/us-central1/pipelineJobs/salary-pipeline-20220512121814\n"
     ]
    },
    {
     "name": "stderr",
     "output_type": "stream",
     "text": [
      "INFO:google.cloud.aiplatform.pipeline_jobs:PipelineJob created. Resource name: projects/167901156608/locations/us-central1/pipelineJobs/salary-pipeline-20220512121814\n"
     ]
    },
    {
     "name": "stdout",
     "output_type": "stream",
     "text": [
      "To use this PipelineJob in another session:\n"
     ]
    },
    {
     "name": "stderr",
     "output_type": "stream",
     "text": [
      "INFO:google.cloud.aiplatform.pipeline_jobs:To use this PipelineJob in another session:\n"
     ]
    },
    {
     "name": "stdout",
     "output_type": "stream",
     "text": [
      "pipeline_job = aiplatform.PipelineJob.get('projects/167901156608/locations/us-central1/pipelineJobs/salary-pipeline-20220512121814')\n"
     ]
    },
    {
     "name": "stderr",
     "output_type": "stream",
     "text": [
      "INFO:google.cloud.aiplatform.pipeline_jobs:pipeline_job = aiplatform.PipelineJob.get('projects/167901156608/locations/us-central1/pipelineJobs/salary-pipeline-20220512121814')\n"
     ]
    },
    {
     "name": "stdout",
     "output_type": "stream",
     "text": [
      "View Pipeline Job:\n",
      "https://console.cloud.google.com/vertex-ai/locations/us-central1/pipelines/runs/salary-pipeline-20220512121814?project=167901156608\n"
     ]
    },
    {
     "name": "stderr",
     "output_type": "stream",
     "text": [
      "INFO:google.cloud.aiplatform.pipeline_jobs:View Pipeline Job:\n",
      "https://console.cloud.google.com/vertex-ai/locations/us-central1/pipelines/runs/salary-pipeline-20220512121814?project=167901156608\n"
     ]
    }
   ],
   "source": [
    "from google.cloud import aiplatform\n",
    "from google.cloud.aiplatform import pipeline_jobs\n",
    "import logging \n",
    "\n",
    "logging.getLogger().setLevel(logging.INFO)\n",
    "\n",
    "aiplatform.init(project=GOOGLE_CLOUD_PROJECT, location=GOOGLE_CLOUD_REGION)\n",
    "\n",
    "job = pipeline_jobs.PipelineJob(template_path=PIPELINE_DEFINITION_FILE,\n",
    "                               display_name=PIPELINE_NAME)\n",
    "job.submit()"
   ]
  },
  {
   "cell_type": "code",
   "execution_count": null,
   "metadata": {},
   "outputs": [],
   "source": []
  },
  {
   "cell_type": "code",
   "execution_count": null,
   "metadata": {},
   "outputs": [],
   "source": []
  },
  {
   "cell_type": "code",
   "execution_count": null,
   "metadata": {},
   "outputs": [],
   "source": []
  },
  {
   "cell_type": "code",
   "execution_count": null,
   "metadata": {},
   "outputs": [],
   "source": []
  },
  {
   "cell_type": "code",
   "execution_count": null,
   "metadata": {},
   "outputs": [],
   "source": []
  },
  {
   "cell_type": "code",
   "execution_count": null,
   "metadata": {},
   "outputs": [],
   "source": []
  },
  {
   "cell_type": "markdown",
   "metadata": {},
   "source": [
    "# Visualize Statistics"
   ]
  },
  {
   "cell_type": "code",
   "execution_count": 2,
   "metadata": {},
   "outputs": [],
   "source": [
    "import os\n",
    "import tensorflow as tf\n",
    "import tensorflow_data_validation as tfdv\n",
    "STATS_URI = \"gs://salary-pipeline-347020/pipeline_root/salary-pipeline/167901156608/salary-pipeline-20220506075236/StatisticsGen_1800290861297172480/statistics\"\n",
    "directories = tf.io.gfile.glob(os.path.join(STATS_URI, 'Split-*'))\n",
    "names = map(os.path.basename, directories)\n",
    "splits = {name: os.path.join(directory, 'FeatureStats.pb') for name, directory in zip(names, directories)}\n"
   ]
  },
  {
   "cell_type": "code",
   "execution_count": 3,
   "metadata": {},
   "outputs": [
    {
     "data": {
      "text/plain": [
       "{'Split-eval': 'gs://salary-pipeline-347020/pipeline_root/salary-pipeline/167901156608/salary-pipeline-20220506075236/StatisticsGen_1800290861297172480/statistics/Split-eval/FeatureStats.pb',\n",
       " 'Split-train': 'gs://salary-pipeline-347020/pipeline_root/salary-pipeline/167901156608/salary-pipeline-20220506075236/StatisticsGen_1800290861297172480/statistics/Split-train/FeatureStats.pb'}"
      ]
     },
     "execution_count": 3,
     "metadata": {},
     "output_type": "execute_result"
    }
   ],
   "source": [
    "splits "
   ]
  },
  {
   "cell_type": "code",
   "execution_count": 4,
   "metadata": {},
   "outputs": [],
   "source": [
    "lhs_split = 'Split-train'\n",
    "rhs_split = 'Split-eval'"
   ]
  },
  {
   "cell_type": "code",
   "execution_count": 7,
   "metadata": {},
   "outputs": [
    {
     "data": {
      "text/html": [
       "<iframe id='facets-iframe' width=\"100%\" height=\"500px\"></iframe>\n",
       "        <script>\n",
       "        facets_iframe = document.getElementById('facets-iframe');\n",
       "        facets_html = '<script src=\"https://cdnjs.cloudflare.com/ajax/libs/webcomponentsjs/1.3.3/webcomponents-lite.js\"><\\/script><link rel=\"import\" href=\"https://raw.githubusercontent.com/PAIR-code/facets/master/facets-dist/facets-jupyter.html\"><facets-overview proto-input=\"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\"></facets-overview>';\n",
       "        facets_iframe.srcdoc = facets_html;\n",
       "         facets_iframe.id = \"\";\n",
       "         setTimeout(() => {\n",
       "           facets_iframe.setAttribute('height', facets_iframe.contentWindow.document.body.offsetHeight + 'px')\n",
       "         }, 1500)\n",
       "         </script>"
      ],
      "text/plain": [
       "<IPython.core.display.HTML object>"
      ]
     },
     "metadata": {},
     "output_type": "display_data"
    }
   ],
   "source": [
    "tfdv.visualize_statistics(\n",
    "    lhs_statistics=tfdv.load_stats_binary(splits[lhs_split]),\n",
    "    lhs_name=lhs_split,\n",
    "    rhs_statistics=tfdv.load_stats_binary(splits[rhs_split]),\n",
    "    rhs_name=rhs_split\n",
    ")"
   ]
  },
  {
   "cell_type": "markdown",
   "metadata": {},
   "source": [
    "# View Schema"
   ]
  },
  {
   "cell_type": "code",
   "execution_count": 8,
   "metadata": {},
   "outputs": [
    {
     "data": {
      "text/html": [
       "<div>\n",
       "<style scoped>\n",
       "    .dataframe tbody tr th:only-of-type {\n",
       "        vertical-align: middle;\n",
       "    }\n",
       "\n",
       "    .dataframe tbody tr th {\n",
       "        vertical-align: top;\n",
       "    }\n",
       "\n",
       "    .dataframe thead th {\n",
       "        text-align: right;\n",
       "    }\n",
       "</style>\n",
       "<table border=\"1\" class=\"dataframe\">\n",
       "  <thead>\n",
       "    <tr style=\"text-align: right;\">\n",
       "      <th></th>\n",
       "      <th>Type</th>\n",
       "      <th>Presence</th>\n",
       "      <th>Valency</th>\n",
       "      <th>Domain</th>\n",
       "    </tr>\n",
       "    <tr>\n",
       "      <th>Feature name</th>\n",
       "      <th></th>\n",
       "      <th></th>\n",
       "      <th></th>\n",
       "      <th></th>\n",
       "    </tr>\n",
       "  </thead>\n",
       "  <tbody>\n",
       "    <tr>\n",
       "      <th>'age'</th>\n",
       "      <td>INT</td>\n",
       "      <td>required</td>\n",
       "      <td></td>\n",
       "      <td>-</td>\n",
       "    </tr>\n",
       "    <tr>\n",
       "      <th>'capital-gain'</th>\n",
       "      <td>INT</td>\n",
       "      <td>required</td>\n",
       "      <td></td>\n",
       "      <td>-</td>\n",
       "    </tr>\n",
       "    <tr>\n",
       "      <th>'capital-loss'</th>\n",
       "      <td>INT</td>\n",
       "      <td>required</td>\n",
       "      <td></td>\n",
       "      <td>-</td>\n",
       "    </tr>\n",
       "    <tr>\n",
       "      <th>'education'</th>\n",
       "      <td>STRING</td>\n",
       "      <td>required</td>\n",
       "      <td></td>\n",
       "      <td>'education'</td>\n",
       "    </tr>\n",
       "    <tr>\n",
       "      <th>'education-num'</th>\n",
       "      <td>INT</td>\n",
       "      <td>required</td>\n",
       "      <td></td>\n",
       "      <td>-</td>\n",
       "    </tr>\n",
       "    <tr>\n",
       "      <th>'fnlwgt'</th>\n",
       "      <td>INT</td>\n",
       "      <td>required</td>\n",
       "      <td></td>\n",
       "      <td>-</td>\n",
       "    </tr>\n",
       "    <tr>\n",
       "      <th>'hours-per-week'</th>\n",
       "      <td>INT</td>\n",
       "      <td>required</td>\n",
       "      <td></td>\n",
       "      <td>-</td>\n",
       "    </tr>\n",
       "    <tr>\n",
       "      <th>'label'</th>\n",
       "      <td>INT</td>\n",
       "      <td>required</td>\n",
       "      <td></td>\n",
       "      <td>-</td>\n",
       "    </tr>\n",
       "    <tr>\n",
       "      <th>'marital-status'</th>\n",
       "      <td>STRING</td>\n",
       "      <td>required</td>\n",
       "      <td></td>\n",
       "      <td>'marital-status'</td>\n",
       "    </tr>\n",
       "    <tr>\n",
       "      <th>'native-country'</th>\n",
       "      <td>STRING</td>\n",
       "      <td>required</td>\n",
       "      <td></td>\n",
       "      <td>'native-country'</td>\n",
       "    </tr>\n",
       "    <tr>\n",
       "      <th>'occupation'</th>\n",
       "      <td>STRING</td>\n",
       "      <td>required</td>\n",
       "      <td></td>\n",
       "      <td>'occupation'</td>\n",
       "    </tr>\n",
       "    <tr>\n",
       "      <th>'race'</th>\n",
       "      <td>STRING</td>\n",
       "      <td>required</td>\n",
       "      <td></td>\n",
       "      <td>'race'</td>\n",
       "    </tr>\n",
       "    <tr>\n",
       "      <th>'relationship'</th>\n",
       "      <td>STRING</td>\n",
       "      <td>required</td>\n",
       "      <td></td>\n",
       "      <td>'relationship'</td>\n",
       "    </tr>\n",
       "    <tr>\n",
       "      <th>'sex'</th>\n",
       "      <td>STRING</td>\n",
       "      <td>required</td>\n",
       "      <td></td>\n",
       "      <td>'sex'</td>\n",
       "    </tr>\n",
       "    <tr>\n",
       "      <th>'workclass'</th>\n",
       "      <td>STRING</td>\n",
       "      <td>required</td>\n",
       "      <td></td>\n",
       "      <td>'workclass'</td>\n",
       "    </tr>\n",
       "  </tbody>\n",
       "</table>\n",
       "</div>"
      ],
      "text/plain": [
       "                    Type  Presence Valency            Domain\n",
       "Feature name                                                \n",
       "'age'                INT  required                         -\n",
       "'capital-gain'       INT  required                         -\n",
       "'capital-loss'       INT  required                         -\n",
       "'education'       STRING  required               'education'\n",
       "'education-num'      INT  required                         -\n",
       "'fnlwgt'             INT  required                         -\n",
       "'hours-per-week'     INT  required                         -\n",
       "'label'              INT  required                         -\n",
       "'marital-status'  STRING  required          'marital-status'\n",
       "'native-country'  STRING  required          'native-country'\n",
       "'occupation'      STRING  required              'occupation'\n",
       "'race'            STRING  required                    'race'\n",
       "'relationship'    STRING  required            'relationship'\n",
       "'sex'             STRING  required                     'sex'\n",
       "'workclass'       STRING  required               'workclass'"
      ]
     },
     "metadata": {},
     "output_type": "display_data"
    },
    {
     "data": {
      "text/html": [
       "<div>\n",
       "<style scoped>\n",
       "    .dataframe tbody tr th:only-of-type {\n",
       "        vertical-align: middle;\n",
       "    }\n",
       "\n",
       "    .dataframe tbody tr th {\n",
       "        vertical-align: top;\n",
       "    }\n",
       "\n",
       "    .dataframe thead th {\n",
       "        text-align: right;\n",
       "    }\n",
       "</style>\n",
       "<table border=\"1\" class=\"dataframe\">\n",
       "  <thead>\n",
       "    <tr style=\"text-align: right;\">\n",
       "      <th></th>\n",
       "      <th>Values</th>\n",
       "    </tr>\n",
       "    <tr>\n",
       "      <th>Domain</th>\n",
       "      <th></th>\n",
       "    </tr>\n",
       "  </thead>\n",
       "  <tbody>\n",
       "    <tr>\n",
       "      <th>'education'</th>\n",
       "      <td>'10th', '11th', '12th', '1st-4th', '5th-6th', '7th-8th', '9th', 'Assoc-acdm', 'Assoc-voc', 'Bachelors', 'Doctorate', 'HS-grad', 'Masters', 'Preschool', 'Prof-school', 'Some-college'</td>\n",
       "    </tr>\n",
       "    <tr>\n",
       "      <th>'marital-status'</th>\n",
       "      <td>'Divorced', 'Married-AF-spouse', 'Married-civ-spouse', 'Married-spouse-absent', 'Never-married', 'Separated', 'Widowed'</td>\n",
       "    </tr>\n",
       "    <tr>\n",
       "      <th>'native-country'</th>\n",
       "      <td>'?', 'Cambodia', 'Canada', 'China', 'Columbia', 'Cuba', 'Dominican-Republic', 'Ecuador', 'El-Salvador', 'England', 'France', 'Germany', 'Greece', 'Guatemala', 'Haiti', 'Holand-Netherlands', 'Honduras', 'Hong', 'Hungary', 'India', 'Iran', 'Ireland', 'Italy', 'Jamaica', 'Japan', 'Laos', 'Mexico', 'Nicaragua', 'Outlying-US(Guam-USVI-etc)', 'Peru', 'Philippines', 'Poland', 'Portugal', 'Puerto-Rico', 'Scotland', 'South', 'Taiwan', 'Thailand', 'Trinadad&amp;Tobago', 'United-States', 'Vietnam', 'Yugoslavia'</td>\n",
       "    </tr>\n",
       "    <tr>\n",
       "      <th>'occupation'</th>\n",
       "      <td>'?', 'Adm-clerical', 'Armed-Forces', 'Craft-repair', 'Exec-managerial', 'Farming-fishing', 'Handlers-cleaners', 'Machine-op-inspct', 'Other-service', 'Priv-house-serv', 'Prof-specialty', 'Protective-serv', 'Sales', 'Tech-support', 'Transport-moving'</td>\n",
       "    </tr>\n",
       "    <tr>\n",
       "      <th>'race'</th>\n",
       "      <td>'Amer-Indian-Eskimo', 'Asian-Pac-Islander', 'Black', 'Other', 'White'</td>\n",
       "    </tr>\n",
       "    <tr>\n",
       "      <th>'relationship'</th>\n",
       "      <td>'Husband', 'Not-in-family', 'Other-relative', 'Own-child', 'Unmarried', 'Wife'</td>\n",
       "    </tr>\n",
       "    <tr>\n",
       "      <th>'sex'</th>\n",
       "      <td>'Female', 'Male'</td>\n",
       "    </tr>\n",
       "    <tr>\n",
       "      <th>'workclass'</th>\n",
       "      <td>'?', 'Federal-gov', 'Local-gov', 'Never-worked', 'Private', 'Self-emp-inc', 'Self-emp-not-inc', 'State-gov', 'Without-pay'</td>\n",
       "    </tr>\n",
       "  </tbody>\n",
       "</table>\n",
       "</div>"
      ],
      "text/plain": [
       "                                                                                                                                                                                                                                                                                                                                                                                                                                                                                                                                 Values\n",
       "Domain                                                                                                                                                                                                                                                                                                                                                                                                                                                                                                                                 \n",
       "'education'                                                                                                                                                                                                                                                                                                                                       '10th', '11th', '12th', '1st-4th', '5th-6th', '7th-8th', '9th', 'Assoc-acdm', 'Assoc-voc', 'Bachelors', 'Doctorate', 'HS-grad', 'Masters', 'Preschool', 'Prof-school', 'Some-college'\n",
       "'marital-status'                                                                                                                                                                                                                                                                                                                                                                                                'Divorced', 'Married-AF-spouse', 'Married-civ-spouse', 'Married-spouse-absent', 'Never-married', 'Separated', 'Widowed'\n",
       "'native-country'  '?', 'Cambodia', 'Canada', 'China', 'Columbia', 'Cuba', 'Dominican-Republic', 'Ecuador', 'El-Salvador', 'England', 'France', 'Germany', 'Greece', 'Guatemala', 'Haiti', 'Holand-Netherlands', 'Honduras', 'Hong', 'Hungary', 'India', 'Iran', 'Ireland', 'Italy', 'Jamaica', 'Japan', 'Laos', 'Mexico', 'Nicaragua', 'Outlying-US(Guam-USVI-etc)', 'Peru', 'Philippines', 'Poland', 'Portugal', 'Puerto-Rico', 'Scotland', 'South', 'Taiwan', 'Thailand', 'Trinadad&Tobago', 'United-States', 'Vietnam', 'Yugoslavia'\n",
       "'occupation'                                                                                                                                                                                                                                                                  '?', 'Adm-clerical', 'Armed-Forces', 'Craft-repair', 'Exec-managerial', 'Farming-fishing', 'Handlers-cleaners', 'Machine-op-inspct', 'Other-service', 'Priv-house-serv', 'Prof-specialty', 'Protective-serv', 'Sales', 'Tech-support', 'Transport-moving'\n",
       "'race'                                                                                                                                                                                                                                                                                                                                                                                                                                                            'Amer-Indian-Eskimo', 'Asian-Pac-Islander', 'Black', 'Other', 'White'\n",
       "'relationship'                                                                                                                                                                                                                                                                                                                                                                                                                                           'Husband', 'Not-in-family', 'Other-relative', 'Own-child', 'Unmarried', 'Wife'\n",
       "'sex'                                                                                                                                                                                                                                                                                                                                                                                                                                                                                                                  'Female', 'Male'\n",
       "'workclass'                                                                                                                                                                                                                                                                                                                                                                                                  '?', 'Federal-gov', 'Local-gov', 'Never-worked', 'Private', 'Self-emp-inc', 'Self-emp-not-inc', 'State-gov', 'Without-pay'"
      ]
     },
     "metadata": {},
     "output_type": "display_data"
    }
   ],
   "source": [
    "import os\n",
    "import tensorflow_data_validation as tfdv\n",
    "SCHEMA_URI = \"gs://salary-pipeline-347020/pipeline_root/salary-pipeline/167901156608/salary-pipeline-20220506075236/SchemaGen_-1658473652523368448/schema\"\n",
    "schema = tfdv.load_schema_text(os.path.join(SCHEMA_URI, 'schema.pbtxt'))\n",
    "tfdv.display_schema(schema)"
   ]
  },
  {
   "cell_type": "markdown",
   "metadata": {},
   "source": [
    "# View anomalies"
   ]
  },
  {
   "cell_type": "code",
   "execution_count": 9,
   "metadata": {},
   "outputs": [
    {
     "data": {
      "text/html": [
       "<h4 style=\"color:green;\">No anomalies found.</h4>"
      ],
      "text/plain": [
       "<IPython.core.display.HTML object>"
      ]
     },
     "metadata": {},
     "output_type": "display_data"
    }
   ],
   "source": [
    "import os\n",
    "import tensorflow_data_validation as tfdv\n",
    "ANOMALIES_URI = \"gs://salary-pipeline-347020/pipeline_root/salary-pipeline/167901156608/salary-pipeline-20220506075236/ExampleValidator_7564898384331407360/anomalies\"\n",
    "anomalies = tfdv.load_anomalies_text(ANOMALIES_URI)\n",
    "tfdv.display_anomalies(anomalies)"
   ]
  },
  {
   "cell_type": "code",
   "execution_count": null,
   "metadata": {},
   "outputs": [],
   "source": []
  }
 ],
 "metadata": {
  "kernelspec": {
   "display_name": "Python 3",
   "language": "python",
   "name": "python3"
  },
  "language_info": {
   "codemirror_mode": {
    "name": "ipython",
    "version": 3
   },
   "file_extension": ".py",
   "mimetype": "text/x-python",
   "name": "python",
   "nbconvert_exporter": "python",
   "pygments_lexer": "ipython3",
   "version": "3.8.5"
  },
  "toc": {
   "base_numbering": 1,
   "nav_menu": {},
   "number_sections": true,
   "sideBar": true,
   "skip_h1_title": false,
   "title_cell": "Table of Contents",
   "title_sidebar": "Contents",
   "toc_cell": false,
   "toc_position": {
    "height": "calc(100% - 180px)",
    "left": "10px",
    "top": "150px",
    "width": "349.091px"
   },
   "toc_section_display": true,
   "toc_window_display": true
  }
 },
 "nbformat": 4,
 "nbformat_minor": 4
}
