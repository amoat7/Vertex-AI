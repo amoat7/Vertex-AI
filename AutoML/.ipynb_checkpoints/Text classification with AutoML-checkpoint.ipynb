{
 "cells": [
  {
   "cell_type": "markdown",
   "metadata": {},
   "source": [
    "# Imports"
   ]
  },
  {
   "cell_type": "code",
   "execution_count": 1,
   "metadata": {},
   "outputs": [
    {
     "name": "stdout",
     "output_type": "stream",
     "text": [
      "env: GOOGLE_APPLICATION_CREDENTIALS=/media/david/warehaus1/youtube_series/proven-script.json\n"
     ]
    }
   ],
   "source": [
    "import os \n",
    "import sys\n",
    "import jsonlines\n",
    "from google.cloud import aiplatform, storage\n",
    "from google.protobuf import json_format\n",
    "from datetime import datetime\n",
    "\n",
    "%env GOOGLE_APPLICATION_CREDENTIALS /media/david/warehaus1/youtube_series/proven-script.json\n",
    "\n",
    "REGION = 'us-central1'\n",
    "PROJECT_ID = 'proven-script-347020'\n",
    "\n",
    "# initiate project\n",
    "aiplatform.init(project=PROJECT_ID, location=REGION)"
   ]
  },
  {
   "cell_type": "markdown",
   "metadata": {},
   "source": [
    "# Create and import dataset"
   ]
  },
  {
   "cell_type": "markdown",
   "metadata": {},
   "source": [
    "- make bucket\n",
    "- upload data\n",
    "- create dataset (conforms to text data preparation)"
   ]
  },
  {
   "cell_type": "code",
   "execution_count": 2,
   "metadata": {},
   "outputs": [
    {
     "name": "stdout",
     "output_type": "stream",
     "text": [
      "Creating gs://text-classification-347020/...\r\n"
     ]
    }
   ],
   "source": [
    "!gsutil mb -l us-central1 gs://text-classification-347020 "
   ]
  },
  {
   "cell_type": "code",
   "execution_count": 3,
   "metadata": {},
   "outputs": [
    {
     "name": "stdout",
     "output_type": "stream",
     "text": [
      "Copying file://bbc-text.csv [Content-Type=text/csv]...\n",
      "\\ [1 files][  4.8 MiB/  4.8 MiB]                                                \n",
      "Operation completed over 1 objects/4.8 MiB.                                      \n"
     ]
    }
   ],
   "source": [
    "!gsutil cp bbc-text.csv gs://text-classification-347020"
   ]
  },
  {
   "cell_type": "code",
   "execution_count": 8,
   "metadata": {},
   "outputs": [],
   "source": [
    "# USe a timestap to ensure unique names\n",
    "timestamp = datetime.now().strftime(\"%Y%m%d%H%M%S\")\n",
    "src_uri = \"gs://text-classification-347020/bbc-text.csv\"\n",
    "display_name = f\"bbc-text-data-{timestamp}\""
   ]
  },
  {
   "cell_type": "code",
   "execution_count": null,
   "metadata": {},
   "outputs": [
    {
     "name": "stdout",
     "output_type": "stream",
     "text": [
      "INFO:google.cloud.aiplatform.datasets.dataset:Creating TextDataset\n",
      "INFO:google.cloud.aiplatform.datasets.dataset:Create TextDataset backing LRO: projects/167901156608/locations/us-central1/datasets/4506251649416691712/operations/1540783645873143808\n",
      "INFO:google.cloud.aiplatform.datasets.dataset:TextDataset created. Resource name: projects/167901156608/locations/us-central1/datasets/4506251649416691712\n",
      "INFO:google.cloud.aiplatform.datasets.dataset:To use this TextDataset in another session:\n",
      "INFO:google.cloud.aiplatform.datasets.dataset:ds = aiplatform.TextDataset('projects/167901156608/locations/us-central1/datasets/4506251649416691712')\n",
      "INFO:google.cloud.aiplatform.datasets.dataset:Importing TextDataset data: projects/167901156608/locations/us-central1/datasets/4506251649416691712\n",
      "INFO:google.cloud.aiplatform.datasets.dataset:Import TextDataset data backing LRO: projects/167901156608/locations/us-central1/datasets/4506251649416691712/operations/3526871081543532544\n"
     ]
    }
   ],
   "source": [
    "# create dataset\n",
    "ds = aiplatform.TextDataset.create(\n",
    "    display_name= display_name,\n",
    "    gcs_source=src_uri,\n",
    "    import_schema_uri=aiplatform.schema.dataset.ioformat.text.single_label_classification,\n",
    "    sync=True\n",
    "    \n",
    ")"
   ]
  },
  {
   "cell_type": "markdown",
   "metadata": {},
   "source": [
    "# Train your text classification model with automl"
   ]
  },
  {
   "cell_type": "code",
   "execution_count": null,
   "metadata": {},
   "outputs": [],
   "source": []
  }
 ],
 "metadata": {
  "kernelspec": {
   "display_name": "Python 3",
   "language": "python",
   "name": "python3"
  },
  "language_info": {
   "codemirror_mode": {
    "name": "ipython",
    "version": 3
   },
   "file_extension": ".py",
   "mimetype": "text/x-python",
   "name": "python",
   "nbconvert_exporter": "python",
   "pygments_lexer": "ipython3",
   "version": "3.8.5"
  },
  "toc": {
   "base_numbering": 1,
   "nav_menu": {},
   "number_sections": true,
   "sideBar": true,
   "skip_h1_title": false,
   "title_cell": "Table of Contents",
   "title_sidebar": "Contents",
   "toc_cell": false,
   "toc_position": {
    "height": "calc(100% - 180px)",
    "left": "10px",
    "top": "150px",
    "width": "202px"
   },
   "toc_section_display": true,
   "toc_window_display": true
  }
 },
 "nbformat": 4,
 "nbformat_minor": 4
}
